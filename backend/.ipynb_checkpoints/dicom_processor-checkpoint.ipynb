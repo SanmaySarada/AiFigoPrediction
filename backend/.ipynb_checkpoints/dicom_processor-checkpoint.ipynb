{
  "cells": [
    {
      "cell_type": "markdown",
      "metadata": {},
      "source": [
        "# DICOM Processing Notebook\n",
        "\n",
        "Process DICOM files using your exact working code, then send results to server.\n"
      ]
    },
    {
      "cell_type": "code",
      "execution_count": null,
      "metadata": {},
      "outputs": [],
      "source": [
        "import os, sys, numpy as np, pydicom\n",
        "from threading import Event\n",
        "from matplotlib import pyplot as plt\n",
        "from PIL import Image\n",
        "import requests\n",
        "import base64\n",
        "from pathlib import Path\n",
        "\n",
        "# Cooperative cancellation support\n",
        "cancel_event: Event = Event()\n"
      ]
    },
    {
      "cell_type": "code",
      "execution_count": null,
      "metadata": {},
      "outputs": [],
      "source": [
        "# ---- load frames from a DICOM (exact match to your reference) ----\n",
        "def load_frames(ds):\n",
        "    arr = ds.pixel_array\n",
        "\n",
        "    if arr.ndim == 2:                      # single frame gray\n",
        "        frames = [arr]\n",
        "\n",
        "    elif arr.ndim == 3:\n",
        "        if arr.shape[-1] in (3, 4):        # (H, W, 3/4) -> one RGB frame\n",
        "            frames = [arr[..., :3]]\n",
        "        else:                               # (N, H, W) stack\n",
        "            frames = [arr[i] for i in range(arr.shape[0])]\n",
        "\n",
        "    elif arr.ndim == 4:                     # (N, H, W, 3/4)\n",
        "        frames = [arr[i, ..., :3] for i in range(arr.shape[0])]\n",
        "\n",
        "    else:\n",
        "        frames = []\n",
        "\n",
        "    return frames\n"
      ]
    },
    {
      "cell_type": "code",
      "execution_count": null,
      "metadata": {},
      "outputs": [],
      "source": [
        "# ---- save frames as PNGs (exact match to your reference) ----\n",
        "def save_pngs(frames, base, out_dir):\n",
        "    os.makedirs(out_dir, exist_ok=True)\n",
        "    written = []\n",
        "    for i, f in enumerate(frames, 1):\n",
        "        if cancel_event.is_set():\n",
        "            break\n",
        "            \n",
        "        if f.ndim == 3:  # RGB to grayscale\n",
        "            f = np.mean(f, axis=-1)\n",
        "\n",
        "        out_name = f\"{base}_frame_{i:03d}.png\"\n",
        "        out_path = os.path.join(out_dir, out_name)\n",
        "        plt.imsave(out_path, f, cmap=\"gray\", vmin=f.min(), vmax=f.max())\n",
        "        written.append(out_path)\n",
        "    return written\n"
      ]
    },
    {
      "cell_type": "code",
      "execution_count": null,
      "metadata": {},
      "outputs": [],
      "source": [
        "# ---- crop PNGs with the exact crop box ----\n",
        "def crop_pngs(files, out_dir, top=65, left=66, right=150):\n",
        "    os.makedirs(out_dir, exist_ok=True)\n",
        "    written = []\n",
        "    for fp in files:\n",
        "        if cancel_event.is_set():\n",
        "            break\n",
        "        img = Image.open(fp)\n",
        "        w, h = img.size\n",
        "        # crop(left, top, right, bottom) -> right is x-coordinate, so use w - right\n",
        "        cropped = img.crop((left, top, w - right, h))\n",
        "        out_path = os.path.join(out_dir, os.path.basename(fp))\n",
        "        cropped.save(out_path)\n",
        "        written.append(out_path)\n",
        "    return written\n"
      ]
    },
    {
      "cell_type": "code",
      "execution_count": null,
      "metadata": {},
      "outputs": [],
      "source": [
        "def process_single_dcm(dcm_path, out_raw=\"Processed_PNGs\", out_cropped=\"Processed_PNGs_cropped\"):\n",
        "    ds = pydicom.dcmread(dcm_path)\n",
        "    frames = load_frames(ds)\n",
        "    if not frames:\n",
        "        return [], []\n",
        "\n",
        "    # Use the file's stem as the base name (no special parsing)\n",
        "    base = os.path.splitext(os.path.basename(dcm_path))[0]\n",
        "    if cancel_event.is_set():\n",
        "        return [], []\n",
        "    raw_files = save_pngs(frames, base, out_raw)\n",
        "    if cancel_event.is_set():\n",
        "        return raw_files, []\n",
        "    cropped_files = crop_pngs(raw_files, out_cropped, top=65, left=66, right=150)\n",
        "    return raw_files, cropped_files\n"
      ]
    },
    {
      "cell_type": "code",
      "execution_count": null,
      "metadata": {},
      "outputs": [],
      "source": [
        "def send_images_to_endpoint(cropped_files, server_url=\"http://localhost:8000\"):\n",
        "    \"\"\"Send processed images to server endpoint\"\"\"\n",
        "    for img_path in cropped_files:\n",
        "        try:\n",
        "            with open(img_path, 'rb') as img_file:\n",
        "                img_data = img_file.read()\n",
        "            \n",
        "            img_base64 = base64.b64encode(img_data).decode('utf-8')\n",
        "            payload = {\"image\": img_base64, \"filename\": os.path.basename(img_path)}\n",
        "            \n",
        "            response = requests.post(f\"{server_url}/process_image\", json=payload)\n",
        "            \n",
        "            if response.status_code == 200:\n",
        "                print(f\"Sent {os.path.basename(img_path)} to server\")\n",
        "            else:\n",
        "                print(f\"Error sending {os.path.basename(img_path)}: {response.text}\")\n",
        "                \n",
        "        except Exception as e:\n",
        "            print(f\"Exception sending {os.path.basename(img_path)}: {e}\")\n"
      ]
    },
    {
      "cell_type": "markdown",
      "metadata": {},
      "source": [
        "## Usage\n",
        "\n",
        "Update the path below and run the cells:\n"
      ]
    },
    {
      "cell_type": "code",
      "execution_count": null,
      "metadata": {},
      "outputs": [],
      "source": [
        "# Configuration\n",
        "DCM_PATH = \"dicom_uploads/PAS389_Abdtrans_3d3.dcm\"  # Update this path\n",
        "SERVER_URL = \"http://localhost:8000\"\n",
        "OUT_RAW = \"Processed_PNGs\"\n",
        "OUT_CROPPED = \"Processed_PNGs_cropped\"\n"
      ]
    },
    {
      "cell_type": "code",
      "execution_count": null,
      "metadata": {},
      "outputs": [],
      "source": [
        "# Process the DICOM file\n",
        "try:\n",
        "    raw_files, cropped_files = process_single_dcm(DCM_PATH, OUT_RAW, OUT_CROPPED)\n",
        "    print(f\"wrote {len(raw_files)} PNG frames to {OUT_RAW}\")\n",
        "    print(f\"wrote {len(cropped_files)} cropped PNGs to {OUT_CROPPED}\")\n",
        "    \n",
        "    # Display first cropped image\n",
        "    if cropped_files:\n",
        "        img = Image.open(cropped_files[0])\n",
        "        plt.figure(figsize=(10, 8))\n",
        "        plt.imshow(img, cmap=\"gray\")\n",
        "        plt.title(f\"First cropped image: {os.path.basename(cropped_files[0])}\")\n",
        "        plt.axis(\"off\")\n",
        "        plt.show()\n",
        "        \n",
        "except Exception as e:\n",
        "    print(f\"failed on {DCM_PATH}: {e}\")\n"
      ]
    },
    {
      "cell_type": "code",
      "execution_count": null,
      "metadata": {},
      "outputs": [],
      "source": [
        "# Send processed images to endpoint\n",
        "if 'cropped_files' in locals() and cropped_files:\n",
        "    send_images_to_endpoint(cropped_files, SERVER_URL)\n",
        "else:\n",
        "    print(\"No cropped files to send. Please run the processing cell first.\")\n"
      ]
    }
  ],
  "metadata": {
    "language_info": {
      "name": "python"
    }
  },
  "nbformat": 4,
  "nbformat_minor": 2
}
